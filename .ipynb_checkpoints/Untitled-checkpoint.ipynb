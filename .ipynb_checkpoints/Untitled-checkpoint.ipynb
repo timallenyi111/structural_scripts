{
 "cells": [
  {
   "cell_type": "code",
   "execution_count": null,
   "id": "89d5e726-26dd-46f9-a5aa-8bd8b5207bf0",
   "metadata": {},
   "outputs": [],
   "source": []
  },
  {
   "cell_type": "code",
   "execution_count": 5,
   "id": "a28738d4-557f-4341-a419-e8fcdb10d3be",
   "metadata": {},
   "outputs": [
    {
     "data": {
      "application/vnd.jupyter.widget-view+json": {
       "model_id": "8d0965e175aa40f48971bb9187818677",
       "version_major": 2,
       "version_minor": 0
      },
      "text/plain": [
       "Text(value='Hell!', description='Input:', placeholder='Type something')"
      ]
     },
     "metadata": {},
     "output_type": "display_data"
    }
   ],
   "source": [
    "# import stuff...\n",
    "import ipywidgets as widgets\n",
    "from IPython.display import display\n",
    "\n",
    "#connection variables\n",
    "\n",
    "L_ehb = 1.5 # center of bolt to end of secondary beam\n",
    "\n",
    "\n"
   ]
  },
  {
   "cell_type": "code",
   "execution_count": null,
   "id": "5be5577b-387b-4b86-9c91-46fb87273449",
   "metadata": {},
   "outputs": [],
   "source": []
  }
 ],
 "metadata": {
  "kernelspec": {
   "display_name": "Python 3 (ipykernel)",
   "language": "python",
   "name": "python3"
  },
  "language_info": {
   "codemirror_mode": {
    "name": "ipython",
    "version": 3
   },
   "file_extension": ".py",
   "mimetype": "text/x-python",
   "name": "python",
   "nbconvert_exporter": "python",
   "pygments_lexer": "ipython3",
   "version": "3.10.4"
  }
 },
 "nbformat": 4,
 "nbformat_minor": 5
}
