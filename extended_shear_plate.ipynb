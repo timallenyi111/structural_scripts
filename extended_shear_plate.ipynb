{
 "cells": [
  {
   "cell_type": "code",
   "execution_count": null,
   "id": "0ac222c0-8427-44ae-8f8f-c7fb6f66d86d",
   "metadata": {},
   "outputs": [],
   "source": []
  },
  {
   "cell_type": "markdown",
   "id": "f8d7d7f8-b415-4ece-b254-21e86bc407e8",
   "metadata": {},
   "source": [
    "### Below are the following assumptions\n",
    "\n",
    "- A325 Bolts and A563 2H Nuts are used in all connections\n",
    "- Hole sizes are in accordance to AISC J3.2\n",
    "\n",
    "\n",
    "### Below is everything that needs checked\n",
    "\n",
    "- holes must meet AISC J3.2 requirements XX\n",
    "- holes vertical and horizontal spacing must meet AISC J3.4 XX\n",
    "- bolt shear\n",
    "- bolt bearing\n",
    "- bolt tearout\n",
    "- determine max plate thickness\n",
    "- plate shear yielding\n",
    "- plate shear rupture\n",
    "- plate block shear rupture\n",
    "- plate flexural rupture\n",
    "- beam web shear yielding\n",
    "- beam web shear rupture\n",
    "- beam web block shear rupture\n",
    "- beam web flexural rupture\n",
    "- check plate for limit states defined by AISC equation 10-5\n",
    "- check plate for buckling using the double-coped beam procedure from part 9"
   ]
  },
  {
   "cell_type": "code",
   "execution_count": 30,
   "id": "89d5e726-26dd-46f9-a5aa-8bd8b5207bf0",
   "metadata": {},
   "outputs": [],
   "source": [
    "#function definition\n",
    "def findBeamRow(df,beamName):\n",
    "    beamRow = df[df[\"Name\"] == beamName].to_dict(orient=\"records\")[0]\n",
    "    return beamRow\n",
    "\n",
    "def findBoltRow(df,boltDia):\n",
    "    boltRow = df[df[\"dia\"] == boltDia].to_dict(orient=\"records\")[0]\n",
    "    return boltRow\n",
    "\n",
    "def getBoltLength(plateThk,webThk,nutHeight):\n",
    "    boltLength = plateThk + webThk + nutHeight\n",
    "    boltLength = math.ceil(boltLength*4)/4\n",
    "    return boltLength\n",
    "\n",
    "def checkBoltEdgeDistance(minEdgeDistance,dist,dimensionName):\n",
    "    print(f\"{dimensionName} bolt edge distance check\")\n",
    "    if dist >= minEdgeDistance:\n",
    "        print(f\"\\tPASS:{d_ct} >= {minEdgeDistance}\\n\")\n",
    "    else:\n",
    "        print(f\"\\tFAIL: {d_ct} < {minEdgeDistance}\\n\")\n",
    "    return\n",
    "\n",
    "def getBoltShearStrength(boltLen,plateThk,webThk,threadLen):\n",
    "    shankLength = boltLen-threadLen\n",
    "    shearPlane = min(plateThk,webThk) #assume the bolts are going in the \"worst\" direction\n",
    "\n",
    "    #bolt shear strengths from table J3.2\n",
    "    if shearPlane > shankLength: # threads are not in shear plane\n",
    "        shearStrength = 68\n",
    "    else:\n",
    "        shearStrength = 54\n",
    "    return shearStrength\n",
    "\n",
    "def checkBoltShearStrength(boltArea,numBolts,shearStrength,load):\n",
    "    R_ult = 0.75*shearStrength*boltArea #this is the nominal shear strength of a single bolt\n",
    "    \n",
    "    "
   ]
  },
  {
   "cell_type": "code",
   "execution_count": 26,
   "id": "a5c0a419-241b-4999-a076-531bf75e0dd8",
   "metadata": {},
   "outputs": [],
   "source": [
    "shearLoad = 2  #value in kips\n",
    "primaryBeam = \"W8X31\"\n",
    "secondaryBeam = \"W6X25\"\n",
    "beamGap = 0.5 #gap between top flange of the primary and secondary beam\n",
    "plateThk = 0.375\n",
    "boltDia = 0.625\n",
    "numRow = 2\n",
    "boltSpacing = 1.5\n",
    "\n",
    "#bolt horizontal positions\n",
    "L_ehb = 1.5  # center of bolt to end of secondary beam top flange (important if coped)\n",
    "L_ehp = 1.5  # center of bolt to end of plate\n",
    "\n",
    "#bolt vertical positions\n",
    "L_evpt = 1.25 #distance from center of top hole to top edge of plate\n",
    "L_evpb = 1.25 #distance from center of bottom hole to bottom edge of plate\n",
    "d_ct = 1.75 #distance from center of top hole to top of beam"
   ]
  },
  {
   "cell_type": "code",
   "execution_count": 27,
   "id": "a28738d4-557f-4341-a419-e8fcdb10d3be",
   "metadata": {},
   "outputs": [
    {
     "name": "stdout",
     "output_type": "stream",
     "text": [
      "0.625\n"
     ]
    }
   ],
   "source": [
    "# import stuff...\n",
    "import pandas as pd\n",
    "import math\n",
    "\n",
    "# import design tables\n",
    "beamTable = pd.read_excel(\"Resources/aisc-shapes-database-v15.xlsx\", engine=\"openpyxl\", sheet_name=1, usecols=\"A,B,G,L,Q,T\")\n",
    "boltTable = pd.read_excel(\"Resources/structural-bolt-dimensions.xlsx\",engine=\"openpyxl\")\n",
    "\n",
    "#connection variables\n",
    "\n",
    "#get the row number for the primary and secondary beam\n",
    "primaryBeamData = findBeamRow(beamTable,primaryBeam.upper())\n",
    "secondaryBeamData = findBeamRow(beamTable,secondaryBeam.upper())\n",
    "\n",
    "boltData = findBoltRow(boltTable,boltDia)\n",
    "print(boltData[\"dia\"])\n",
    "\n",
    "boltLength = getBoltLength(plateThk,secondaryBeamData[\"tw\"],boltData[\"nutHeight\"])\n"
   ]
  },
  {
   "cell_type": "code",
   "execution_count": 28,
   "id": "8e1db1df-3a8b-4152-a6e7-1b25979a6275",
   "metadata": {},
   "outputs": [
    {
     "name": "stdout",
     "output_type": "stream",
     "text": [
      "d_ct bolt edge distance check\n",
      "\tPASS:1.75 >= 0.875\n",
      "L_evpt bolt edge distance check\n",
      "\tPASS:1.75 >= 0.875\n",
      "L_evpb bolt edge distance check\n",
      "\tPASS:1.75 >= 0.875\n",
      "L_ehb bolt edge distance check\n",
      "\tPASS:1.75 >= 0.875\n",
      "L_ehp bolt edge distance check\n",
      "\tPASS:1.75 >= 0.875\n"
     ]
    }
   ],
   "source": [
    "#check dimensional constraints\n",
    "#bolt edge distance from Table J3.4\n",
    "minEdgeDistance = boltData[\"edgeDist\"]\n",
    "checkBoltEdgeDistance(minEdgeDistance,d_ct,\"d_ct\")\n",
    "checkBoltEdgeDistance(minEdgeDistance,L_evpt,\"L_evpt\")\n",
    "checkBoltEdgeDistance(minEdgeDistance,L_evpb,\"L_evpb\")\n",
    "checkBoltEdgeDistance(minEdgeDistance,L_ehb,\"L_ehb\")\n",
    "checkBoltEdgeDistance(minEdgeDistance,L_ehp,\"L_ehp\")\n"
   ]
  },
  {
   "cell_type": "code",
   "execution_count": null,
   "id": "5be5577b-387b-4b86-9c91-46fb87273449",
   "metadata": {},
   "outputs": [],
   "source": [
    "#check bolt strength\n"
   ]
  }
 ],
 "metadata": {
  "kernelspec": {
   "display_name": "Python 3 (ipykernel)",
   "language": "python",
   "name": "python3"
  },
  "language_info": {
   "codemirror_mode": {
    "name": "ipython",
    "version": 3
   },
   "file_extension": ".py",
   "mimetype": "text/x-python",
   "name": "python",
   "nbconvert_exporter": "python",
   "pygments_lexer": "ipython3",
   "version": "3.10.4"
  }
 },
 "nbformat": 4,
 "nbformat_minor": 5
}
