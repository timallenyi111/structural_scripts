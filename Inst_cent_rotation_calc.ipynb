{
  "metadata": {
    "kernelspec": {
      "name": "python",
      "display_name": "Python (Pyodide)",
      "language": "python"
    },
    "language_info": {
      "codemirror_mode": {
        "name": "python",
        "version": 3
      },
      "file_extension": ".py",
      "mimetype": "text/x-python",
      "name": "python",
      "nbconvert_exporter": "python",
      "pygments_lexer": "ipython3",
      "version": "3.8"
    }
  },
  "nbformat_minor": 5,
  "nbformat": 4,
  "cells": [
    {
      "id": "eab921d2-7cf4-47a6-bf3c-15ceec27c2a8",
      "cell_type": "code",
      "source": "import math\nimport pandas as pd\n#variables\n\n#####VARIABLES#######\nboltDia = 0.625\nshearStrength = 68 #this is the value for an A325 bolt with threads not in the shear plane \nnumBolts = 3\nboltSpacing = 3\ne = 4  #this is the distance from the primary beam face to the CG of the bolt group",
      "metadata": {
        "trusted": true
      },
      "outputs": [],
      "execution_count": 49
    },
    {
      "id": "1ab565cd-c003-4bda-83a7-ebc1db66b83c",
      "cell_type": "code",
      "source": "boltArea = (boltDia/2)**2*math.pi\nphi=0.75 #this is the safety factor for bolt shear for the LRFD method\nR_ult = round(phi*boltArea*shearStrength,3) # this is the design shear strength of a single bolt\n\nprint(f\"The design strength of a single bolt is: {R_ult}\")\nprint(\"This value will be used as R_ult\\n\")\n\ndeltaMax = 0.34 #maximum bolt deformation per AISC 7-13\n\n#determine location of bolts\nbgHeight = boltSpacing * (numBolts-1)\n\nboltCord = [] #starting from the top bolt\n\ni = 0 \nprint(f\"bolt coordinates with the y value of the center of the bolt group CG being 0:\")\nwhile i < numBolts:\n    boltTuple = (0,bgHeight/2-boltSpacing*i)\n    boltCord.append(boltTuple)\n    print(f\"bolt: {i+1} = {boltTuple}\")\n    i+=1\n",
      "metadata": {
        "trusted": true
      },
      "outputs": [
        {
          "name": "stdout",
          "output_type": "stream",
          "text": "The desing strength of a single bolt is: 15.647\nThis value will be used as R_ult\n\nbolt coordinates with the y value of the center of the bolt group CG being 0:\nbolt: 1 = (0, 3.0)\nbolt: 2 = (0, 0.0)\nbolt: 3 = (0, -3.0)\n"
        }
      ],
      "execution_count": 3
    },
    {
      "id": "4601ec76-8727-4e3e-be17-883b36958e4f",
      "cell_type": "code",
      "source": "#initial Ix and Iy assume the IC is at the vertical center of the bolt group (y=0)\n\n\n\n####variables to be used in the calculations\nc = 0 #distance from the IC to the individual bolt\ncMax = 0 #distance of bolt furtherst away from the IC\ncx = 0 #x distance from IC to the individual bolt\ncy = 0 #y distance from IC to the individual bolt\nR = 0 #Calculated strength on individual bolt\nRx = 0 #Caluclated strength in the x direction of an individual bolt\nRy = 0 #Calculated strength in the y direction of an individual bolt\nmIC = 0 #moment value of the bolts around IC\nsumMIC = 0 #total mIC for all bolts\ndelta = 0 #bolt deformation of individual bolt\ndeltaMax = 0.34 #maximum deformation of bolt before failur from AISC manual\nicx = 0.5 #variable x coordinate for the IC\nicy = 0  #this will be 0 for all vertical loads because we centered our bolt group vertically to our IC\nic = (icx,icy) #coordinates to the IC\np_ulty = 0 #total vertical load the bolt group can resist \nmP = 0 #moment calculated shear strength (p_ulty) of the bolt group around IC\n\n\niterations = 1000 #number of times trying to find ic\niteration = 0\nwhile iteration<iterations:\n    ic=(icx,icy)\n    cList = []\n    for bolt in boltCord:\n        c = math.dist(ic,bolt)\n        cList.append(c)\n\n    cMax = max(cList)\n\n    #locations in bolt data list for each type of data\n\n    boltData = pd.DataFrame(columns=[\"Bolt Number\",\n                                     \"c\",\n                                     \"cx\",\n                                     \"cy\",\n                                     \"delta\",\n                                     \"R\",\n                                     \"rx\",\n                                     \"ry\",\n                                     \"mIC\"])\n    \n    boltNum = 1  #we don't want a bolt number 0\n    for bolt in boltCord:\n        c = math.dist(ic,bolt) #distance from the IC to the individual bolt\n        cx = icx\n        cy = bolt[1] #equal to the y value of the bolt coordinate\n        \n        delta = deltaMax*(c/cMax) #the delta of an individual bolt is linearly relative to deltaMax and cMax \n        \n        R = R_ult*math.pow(1-math.pow(math.e,-10*delta),0.55)\n\n        \n        rx = -R*(cy/c) \n        ry = R*(cx/c)\n\n        mIC = -rx*cy+ry*cx #get the moment of bolt reactions aroudn the IC\n\n        boltData.loc[boltNum-1]=[int(boltNum),round(c,2),round(cx,2),round(cy,2),round(delta,2),round(R,2),round(rx,2),round(ry,2),round(mIC,2)]\n        boltNum+=1\n\n\n    sumMIC = boltData[\"mIC\"].sum()\n    p_ulty = boltData[\"ry\"].sum() \n    mP = (e+icx)*p_ulty\n    \n    mDiff = sumMIC-mP   #the difference in the moment of the bolt reactions around IC and the Load around I\n\n    #convergence = abs(mDiff)/max(abs(sumMIC),abs(mP))\n    #print(f\"convergence = {convergence*100}%\")\n    print(f\"difference in moment = {mDiff}\")\n    \n    if max(abs(sumMIC),abs(mP))*0.01>abs(mDiff): #converge within 1% of moments\n        print(\"solution found\")\n        iteration = iterations\n    else:\n        icx+=mDiff*0.001\n        \n    #print(\"\\n\")\n    #print(boltData)\n    #print(f\"iteration: {iteration}\")\n    #print(f\"Total moment of bolt reactions around the IC = {round(sumMIC,2)}\")\n    #print(f\"Total shear force the bolt groud can resist = {round(p_ulty,2)}\")\n    #print(f\"Moment from the calculated shear strength of the calculation aroudn IC = {round(mP,2)}\")\n    #print(\"\\n\\n\\n\")\n            \n    iteration+=1\n\nprint(boltData)\nprint(f\"Total moment of bolt reactions around the IC = {round(sumMIC,2)}\")\nprint(f\"Total shear force the bolt groud can resist = {round(p_ulty,2)}\")\nprint(f\"Moment from the calculated shear strength of the calculation aroudn IC = {round(mP,2)}\")\nprint(f\"Location of IC: ({round(icx,3)},{icy})\")\n    \n        ",
      "metadata": {
        "trusted": true
      },
      "outputs": [
        {
          "name": "stdout",
          "output_type": "stream",
          "text": "difference in moment = 31.50500000000001\ndifference in moment = 29.089507949999984\ndifference in moment = 26.976547323594986\ndifference in moment = 25.03321324627673\ndifference in moment = 23.27887850229216\ndifference in moment = 21.673680522980547\ndifference in moment = 20.132482222786322\ndifference in moment = 18.844237858521552\ndifference in moment = 17.567569465342544\ndifference in moment = 16.31052652370738\ndifference in moment = 15.34086401093245\ndifference in moment = 14.34222543185183\ndifference in moment = 13.413401966553721\ndifference in moment = 12.55184905157381\ndifference in moment = 11.739739308121372\ndifference in moment = 10.908971402300011\ndifference in moment = 10.244612886595078\ndifference in moment = 9.704724508066079\ndifference in moment = 9.018272257979149\ndifference in moment = 8.477836569899736\ndifference in moment = 7.964609434430798\ndifference in moment = 7.401389365990724\ndifference in moment = 6.993604349278243\ndifference in moment = 6.582838519622129\ndifference in moment = 6.169263294299199\ndifference in moment = 5.8118602806576405\ndifference in moment = 5.47974992642429\ndifference in moment = 5.114804911454371\ndifference in moment = 4.8345566336306405\ndifference in moment = 4.559557373189591\ndifference in moment = 4.27974745043656\ndifference in moment = 4.0543910427989545\ndifference in moment = 3.774203168353395\ndifference in moment = 3.5486464876948105\ndifference in moment = 3.3567191664150613\ndifference in moment = 3.129319850349674\ndifference in moment = 2.9850081078588317\ndifference in moment = 2.7649371149671396\ndifference in moment = 2.6179675246225713\ndifference in moment = 2.4739727781967815\ndifference in moment = 2.332902441293001\ndifference in moment = 2.1947068033423847\ndifference in moment = 2.0493368696357095\ndifference in moment = 1.9069592533962094\ndifference in moment = 1.817007995177562\ndifference in moment = 1.6794135871667066\ndifference in moment = 1.5446780700569462\ndifference in moment = 1.5313593640858159\ndifference in moment = 1.3996747130372569\ndifference in moment = 1.3103115926979143\ndifference in moment = 1.252404479678944\ndifference in moment = 1.166133569924341\ndifference in moment = 1.1312844163701783\ndifference in moment = 1.0275534466926644\nsolution found\n   Bolt Number     c    cx   cy  delta      R     rx     ry    mIC\n0          1.0  3.15  0.96  3.0   0.34  15.36 -14.63   4.69  48.38\n1          2.0  0.96  0.96  0.0   0.10  12.30  -0.00  12.30  11.83\n2          3.0  3.15  0.96 -3.0   0.34  15.36  14.63   4.69  48.38\nTotal moment of bolt reactions around the IC = 108.59\nTotal shear force the bolt groud can resist = 21.68\nMoment from the calculated shear strength of the calculation aroudn IC = 107.56\nLocation of IC: (0.961,0)\n"
        }
      ],
      "execution_count": 63
    },
    {
      "id": "56b378cd-73bf-49d5-9a84-b6a9d4ab44e6",
      "cell_type": "code",
      "source": "",
      "metadata": {},
      "outputs": [],
      "execution_count": null
    },
    {
      "id": "69d561ed-c301-47a3-b73d-95e52a321c37",
      "cell_type": "code",
      "source": "",
      "metadata": {},
      "outputs": [],
      "execution_count": null
    }
  ]
}