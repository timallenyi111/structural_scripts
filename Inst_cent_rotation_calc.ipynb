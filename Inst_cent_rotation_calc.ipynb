{
  "metadata": {
    "kernelspec": {
      "name": "python",
      "display_name": "Python (Pyodide)",
      "language": "python"
    },
    "language_info": {
      "codemirror_mode": {
        "name": "python",
        "version": 3
      },
      "file_extension": ".py",
      "mimetype": "text/x-python",
      "name": "python",
      "nbconvert_exporter": "python",
      "pygments_lexer": "ipython3",
      "version": "3.8"
    }
  },
  "nbformat_minor": 5,
  "nbformat": 4,
  "cells": [
    {
      "id": "eab921d2-7cf4-47a6-bf3c-15ceec27c2a8",
      "cell_type": "code",
      "source": "import math\nimport pandas as pd\n#variables\n\n#####VARIABLES#######\nboltDia = 0.625\nshearStrength = 68 #this is the value for an A325 bolt with threads not in the shear plane \nnumBolts = 3\nboltSpacing = 3\ne = 4  #this is the distance from the primary beam face to the CG of the bolt group",
      "metadata": {
        "trusted": true
      },
      "outputs": [],
      "execution_count": 49
    },
    {
      "id": "1ab565cd-c003-4bda-83a7-ebc1db66b83c",
      "cell_type": "code",
      "source": "boltArea = (boltDia/2)**2*math.pi\nphi=0.75 #this is the safety factor for bolt shear for the LRFD method\nR_ult = round(phi*boltArea*shearStrength,3) # this is the design shear strength of a single bolt\n\nprint(f\"The desing strength of a single bolt is: {R_ult}\")\nprint(\"This value will be used as R_ult\\n\")\n\ndeltaMax = 0.34 #maximum bolt deformation per AISC 7-13\n\n#determine location of bolts\nbgHeight = boltSpacing * (numBolts-1)\n\nboltCord = [] #starting from the top bolt\n\ni = 0 \nprint(f\"bolt coordinates with the y value of the center of the bolt group CG being 0:\")\nwhile i < numBolts:\n    boltTuple = (0,bgHeight/2-boltSpacing*i)\n    boltCord.append(boltTuple)\n    print(f\"bolt: {i+1} = {boltTuple}\")\n    i+=1\n",
      "metadata": {
        "trusted": true
      },
      "outputs": [
        {
          "name": "stdout",
          "output_type": "stream",
          "text": "The desing strength of a single bolt is: 15.647\nThis value will be used as R_ult\n\nbolt coordinates with the y value of the center of the bolt group CG being 0:\nbolt: 1 = (0, 3.0)\nbolt: 2 = (0, 0.0)\nbolt: 3 = (0, -3.0)\n"
        }
      ],
      "execution_count": 3
    },
    {
      "id": "4601ec76-8727-4e3e-be17-883b36958e4f",
      "cell_type": "code",
      "source": "#initial Ix and Iy assume the IC is at the vertical center of the bolt group (y=0)\n\n\n\n####variables to be used in the calculations\nc = 0 #distance from the IC to the individual bolt\ncMax = 0 #distance of bolt furtherst away from the IC\ncx = 0 #x distance from IC to the individual bolt\ncy = 0 #y distance from IC to the individual bolt\nR = 0 #Calculated strength on individual bolt\nRx = 0 #Caluclated strength in the x direction of an individual bolt\nRy = 0 #Calculated strength in the y direction of an individual bolt\nmIC = 0 #moment value of the bolts around IC\nsumMIC = 0 #total mIC for all bolts\ndelta = 0 #bolt deformation of individual bolt\ndeltaMax = 0.34 #maximum deformation of bolt before failur from AISC manual\nicx = 0.5 #variable x coordinate for the IC\nicy = 0  #this will be 0 for all vertical loads because we centered our bolt group vertically to our IC\nic = (icx,icy) #coordinates to the IC\np_ulty = 0 #total vertical load the bolt group can resist \nmP = 0 #moment calculated shear strength (p_ulty) of the bolt group around IC\n\n\niterations = 500 #number of times trying to find ic\niteration = 0\nwhile iteration<iterations:\n    cList = []\n    for bolt in boltCord:\n        c = math.dist(ic,bolt)\n        cList.append(c)\n\n    cMax = max(cList)\n\n    #locations in bolt data list for each type of data\n\n    boltData = pd.DataFrame(columns=[\"Bolt Number\",\n                                     \"c\",\n                                     \"cx\",\n                                     \"cy\",\n                                     \"delta\",\n                                     \"R\",\n                                     \"rx\",\n                                     \"ry\",\n                                     \"mIC\"])\n    \n    boltNum = 1  #we don't want a bolt number 0\n    for bolt in boltCord:\n        c = math.dist(ic,bolt) #distance from the IC to the individual bolt\n        cx = icx\n        cy = bolt[1] #equal to the y value of the bolt coordinate\n        \n        delta = deltaMax*(c/cMax) #the delta of an individual bolt is linearly relative to deltaMax and cMax \n        \n        R = R_ult*math.pow(1-math.pow(math.e,-10*delta),0.55)\n\n        \n        rx = -R*(cy/c) \n        ry = R*(cx/c)\n\n        mIC = -rx*cy+ry*cx #get the moment of bolt reactions aroudn the IC\n\n        boltData.loc[boltNum-1]=[int(boltNum),round(c,2),round(cx,2),round(cy,2),round(delta,2),round(R,2),round(rx,2),round(ry,2),round(mIC,2)]\n        boltNum+=1\n\n\n    sumMIC = boltData[\"mIC\"].sum()\n    p_ulty = boltData[\"ry\"].sum() \n    mP = (e+icx)*p_ulty\n    \n    mDiff = abs(sumMIC-mP)   #the difference in the moment of the bolt reactions around IC and the Load around IC\n\n    #convergence = abs(mDiff)/max(abs(sumMIC),abs(mP))\n    #print(f\"convergence = {convergence*100}%\")\n    print(f\"difference in moment = {mDiff}\")\n    if round(sumMIC,2) == round(mP,2):\n        print(\"solution found\")\n        iteration = iterations\n    elif sumMIC>mP:\n        icx+=mDiff*0.001\n    else:\n        icx-=mDiff*0.001\n        \n    #print(\"\\n\")\n    #print(boltData)\n    #print(f\"iteration: {iteration}\")\n    #print(f\"Total moment of bolt reactions around the IC = {round(sumMIC,2)}\")\n    #print(f\"Total shear force the bolt groud can resist = {round(p_ulty,2)}\")\n    #print(f\"Moment from the calculated shear strength of the calculation aroudn IC = {round(mP,2)}\")\n    #print(\"\\n\\n\\n\")\n            \n    iteration+=1\n\nprint(boltData)\nprint(f\"Total moment of bolt reactions around the IC = {round(sumMIC,2)}\")\nprint(f\"Total shear force the bolt groud can resist = {round(p_ulty,2)}\")\nprint(f\"Moment from the calculated shear strength of the calculation aroudn IC = {round(mP,2)}\")\n    \n        ",
      "metadata": {
        "trusted": true
      },
      "outputs": [
        {
          "name": "stdout",
          "output_type": "stream",
          "text": "difference in moment = 31.50500000000001\ndifference in moment = 27.727536049999998\ndifference in moment = 24.425555250849\ndifference in moment = 21.457695535017265\ndifference in moment = 18.8779158369544\ndifference in moment = 16.684916815419157\ndifference in moment = 14.69507229874904\ndifference in moment = 12.963320483989477\ndifference in moment = 11.456826936298384\ndifference in moment = 10.098164448012994\ndifference in moment = 8.897213925066552\ndifference in moment = 7.75916005868018\ndifference in moment = 6.8554185858038466\ndifference in moment = 6.105839520033371\ndifference in moment = 5.376883987774605\ndifference in moment = 4.6886954997614225\ndifference in moment = 4.17280933376135\ndifference in moment = 3.5996181039661224\ndifference in moment = 3.2547131490972845\ndifference in moment = 2.8219361248604287\ndifference in moment = 2.5477573909549562\ndifference in moment = 2.1743399457485992\ndifference in moment = 1.931224302395023\ndifference in moment = 1.6932692170947945\ndifference in moment = 1.4404030605855525\ndifference in moment = 1.3831314224336495\ndifference in moment = 1.1744472203354093\ndifference in moment = 1.007873614603156\ndifference in moment = 0.9400911597206658\ndifference in moment = 0.7786398363674039\ndifference in moment = 0.6859271714717892\ndifference in moment = 0.6628676997922156\ndifference in moment = 0.5251180765653345\ndifference in moment = 0.5056519653951028\ndifference in moment = 0.4566154806368843\ndifference in moment = 0.41867808812460794\ndifference in moment = 0.2963550799433534\ndifference in moment = 0.25202217055584697\ndifference in moment = 0.25631134817106727\ndifference in moment = 0.2028777828595878\ndifference in moment = 0.20827854352214104\ndifference in moment = 0.185927207215272\ndifference in moment = 0.18171037815564262\ndifference in moment = 0.18758918677905\ndifference in moment = 0.040429022044122576\ndifference in moment = 0.03951087895347882\ndifference in moment = 0.038613586892466856\ndifference in moment = 0.04773667233412482\ndifference in moment = 0.04665257250542254\ndifference in moment = 0.04559309258381461\ndifference in moment = 0.04455767345125139\ndifference in moment = 0.0435457686871672\ndifference in moment = 0.04255684428029838\ndifference in moment = 0.04159037834668311\ndifference in moment = 0.05064586085443068\ndifference in moment = 0.0018556650379935036\nsolution found\n   Bolt Number     c    cx   cy  delta      R     rx     ry    mIC\n0          1.0  3.04  0.76  3.0   0.34  15.36 -15.15   3.86  48.39\n1          2.0  0.50  0.76  0.0   0.06   9.81  -0.00  15.00  11.46\n2          3.0  3.04  0.76 -3.0   0.34  15.36  15.15   3.86  48.39\nTotal moment of bolt reactions around the IC = 108.24\nTotal shear force the bolt groud can resist = 22.72\nMoment from the calculated shear strength of the calculation aroudn IC = 108.24\n"
        }
      ],
      "execution_count": 48
    },
    {
      "id": "b0ebf769-8579-4f52-a12a-f5f45691b977",
      "cell_type": "code",
      "source": "#initial Ix and Iy assume the IC is at the vertical center of the bolt group (y=0)\nicx = 0.5\n\niterations = 100 #number of times trying to find ic\niteration = 0\nwhile iteration<iterations:\n    ic = (icx,0) #y if IC is always 0 if the force is vertical\n    \n    #get a list of distances from each bolt to the IC\n    distList = []\n    for point in boltCord:\n        distList.append(math.dist(ic,point))\n    \n    maxDist = max(distList)\n    \n    deltaList = []\n    for dist in distList:\n        deltaList.append(0.34*(dist/maxDist))\n    \n    rList = []\n    for delta in deltaList:\n        rList.append(R_ult*math.pow(1-math.pow(math.e,-10*delta),0.55))\n    \n    x = 0\n    rxList = []\n    ryList = []\n    mList = [] #list of moments around IC\n    for R in rList:\n        boltPoint = boltCord[x]\n        cx = boltPoint[0]-ic[0]\n        cy = boltPoint[1]-ic[1]\n        c = distList[x]\n        rx = -R*(cy/c)\n        ry = R*(cx/c)\n        m = -rx*cy+ry*cx\n        rxList.append(rx)\n        ryList.append(ry)\n        mList.append(m)\n        x+=1\n    \n    i=0\n    rxSum=0\n    rySum=0\n    mSum=0\n    while i<numBolts:\n        rxSum+=rxList[i]\n        rySum+=ryList[i]\n        mSum+=mList[i]\n        i+=1\n    \n    mSum = round(mSum,2)\n    print(f\"the sum of bolt moments: {mSum}\")\n    ex = cg_x + ic[0] #distance from the IC to the applied load\n    m_ult = -rySum*ex\n    m_ult = round(m_ult,2)\n    print(f\"the moment of the resultant force around the IC: {m_ult}\")\n    m_diff = mSum-m_ult\n    print(f\"IC location: {ic}\")\n    if m_ult == mSum:\n        print(\"solution found\")\n        iteration = iterations\n    elif mSum>m_ult:\n        icx+=m_diff*0.1\n    else:\n        icx-=m_diff*0.1\n\n    iteration+=1\n\nprint(f\"resultant reaction force: {-rySum}\")\nprint(f\"sum of rlist: {sum(rList)}\")\nprint(f\"nominal group strenth: {R_nom}\")\nr2List = []\nfor delta in deltaList:\n     r2List.append(R_ult*numBolts*math.pow(1-math.pow(math.e,-10*delta),0.55))\nprint(r2List)",
      "metadata": {
        "trusted": true
      },
      "outputs": [
        {
          "name": "stdout",
          "output_type": "stream",
          "text": "the sum of bolt moments: 98.32\n"
        },
        {
          "ename": "<class 'NameError'>",
          "evalue": "name 'cg_x' is not defined",
          "traceback": [
            "\u001b[0;31m---------------------------------------------------------------------------\u001b[0m",
            "\u001b[0;31mNameError\u001b[0m                                 Traceback (most recent call last)",
            "Cell \u001b[0;32mIn[17], line 53\u001b[0m\n\u001b[1;32m     51\u001b[0m mSum \u001b[38;5;241m=\u001b[39m \u001b[38;5;28mround\u001b[39m(mSum,\u001b[38;5;241m2\u001b[39m)\n\u001b[1;32m     52\u001b[0m \u001b[38;5;28mprint\u001b[39m(\u001b[38;5;124mf\u001b[39m\u001b[38;5;124m\"\u001b[39m\u001b[38;5;124mthe sum of bolt moments: \u001b[39m\u001b[38;5;132;01m{\u001b[39;00mmSum\u001b[38;5;132;01m}\u001b[39;00m\u001b[38;5;124m\"\u001b[39m)\n\u001b[0;32m---> 53\u001b[0m ex \u001b[38;5;241m=\u001b[39m \u001b[43mcg_x\u001b[49m \u001b[38;5;241m+\u001b[39m ic[\u001b[38;5;241m0\u001b[39m] \u001b[38;5;66;03m#distance from the IC to the applied load\u001b[39;00m\n\u001b[1;32m     54\u001b[0m m_ult \u001b[38;5;241m=\u001b[39m \u001b[38;5;241m-\u001b[39mrySum\u001b[38;5;241m*\u001b[39mex\n\u001b[1;32m     55\u001b[0m m_ult \u001b[38;5;241m=\u001b[39m \u001b[38;5;28mround\u001b[39m(m_ult,\u001b[38;5;241m2\u001b[39m)\n",
            "\u001b[0;31mNameError\u001b[0m: name 'cg_x' is not defined"
          ],
          "output_type": "error"
        }
      ],
      "execution_count": 17
    },
    {
      "id": "56b378cd-73bf-49d5-9a84-b6a9d4ab44e6",
      "cell_type": "code",
      "source": "",
      "metadata": {},
      "outputs": [],
      "execution_count": null
    },
    {
      "id": "69d561ed-c301-47a3-b73d-95e52a321c37",
      "cell_type": "code",
      "source": "",
      "metadata": {},
      "outputs": [],
      "execution_count": null
    }
  ]
}